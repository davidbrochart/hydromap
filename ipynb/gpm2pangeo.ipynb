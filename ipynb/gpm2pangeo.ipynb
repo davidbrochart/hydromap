{
 "cells": [
  {
   "cell_type": "code",
   "execution_count": null,
   "metadata": {},
   "outputs": [],
   "source": [
    "from datetime import datetime, timedelta\n",
    "from pydap.cas.urs import setup_session\n",
    "from dask.diagnostics import ProgressBar\n",
    "import xarray as xr"
   ]
  },
  {
   "cell_type": "code",
   "execution_count": null,
   "metadata": {},
   "outputs": [],
   "source": [
    "dt0 = datetime(2014, 3, 12, 0)\n",
    "dt1 = datetime(2019, 1, 1, 0)\n",
    "done = False\n",
    "dt = dt0\n",
    "url, time = [], []\n",
    "while not done:\n",
    "    time.append(dt + timedelta(minutes=15))\n",
    "    url.append(f'https://gpm1.gesdisc.eosdis.nasa.gov/opendap/hyrax/GPM_L3/GPM_3IMERGHHE.05/{dt.year}/{str(dt.timetuple().tm_yday).zfill(3)}/3B-HHR-E.MS.MRG.3IMERG.{dt.year}{str(dt.month).zfill(2)}{str(dt.day).zfill(2)}-S{str(dt.hour).zfill(2)}{str(dt.minute).zfill(2)}00-E{str(dt.hour).zfill(2)}{str(dt.minute+29).zfill(2)}59.{str(dt.hour*60+dt.minute).zfill(4)}.V05B.HDF5')\n",
    "    if dt == dt1:\n",
    "        done = True\n",
    "    dt = dt + timedelta(minutes=30)\n",
    "session = setup_session('davidbrochart', 'DavidBrochart0', check_url=url[0])"
   ]
  },
  {
   "cell_type": "code",
   "execution_count": null,
   "metadata": {},
   "outputs": [],
   "source": [
    "with ProgressBar():\n",
    "    ds = xr.open_mfdataset(url, concat_dim='time', parallel=True, engine='pydap', backend_kwargs={'session': session})"
   ]
  },
  {
   "cell_type": "code",
   "execution_count": null,
   "metadata": {},
   "outputs": [],
   "source": [
    "ds = ds.assign_coords(time=time)"
   ]
  },
  {
   "cell_type": "code",
   "execution_count": null,
   "metadata": {},
   "outputs": [],
   "source": [
    "ds.to_zarr('gpm_dataset')"
   ]
  }
 ],
 "metadata": {
  "kernelspec": {
   "display_name": "Python 3",
   "language": "python",
   "name": "python3"
  },
  "language_info": {
   "codemirror_mode": {
    "name": "ipython",
    "version": 3
   },
   "file_extension": ".py",
   "mimetype": "text/x-python",
   "name": "python",
   "nbconvert_exporter": "python",
   "pygments_lexer": "ipython3",
   "version": "3.6.6"
  }
 },
 "nbformat": 4,
 "nbformat_minor": 2
}
