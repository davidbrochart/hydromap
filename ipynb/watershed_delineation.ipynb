{
 "cells": [
  {
   "cell_type": "code",
   "execution_count": null,
   "metadata": {},
   "outputs": [],
   "source": [
    "from ipyleaflet import Map, Marker\n",
    "import ipywidgets as widgets\n",
    "from IPython.display import display\n",
    "from tqdm import tqdm\n",
    "import matplotlib.pyplot as plt\n",
    "%matplotlib inline\n",
    "import numpy as np\n",
    "import xarray as xr\n",
    "from dask.diagnostics import ProgressBar\n",
    "from datetime import datetime, timedelta\n",
    "from pydap.cas.urs import setup_session\n",
    "#from sidecar import Sidecar\n",
    "import sys\n",
    "sys.path.append('../py')\n",
    "from hydromap import Flow, get_polygon\n",
    "from delineate import delineate\n",
    "from misc import adjust_bbox, aggregate_da, pixel_area\n",
    "import gcsfs"
   ]
  },
  {
   "cell_type": "code",
   "execution_count": null,
   "metadata": {
    "scrolled": false
   },
   "outputs": [],
   "source": [
    "center = (-10, -60)\n",
    "zoom = 4\n",
    "m = Map(center=center, zoom=zoom, interpolation='nearest')\n",
    "#sc = Sidecar(title='Map')\n",
    "#with sc:\n",
    "#    display(m)\n",
    "m"
   ]
  },
  {
   "cell_type": "code",
   "execution_count": null,
   "metadata": {},
   "outputs": [],
   "source": [
    "message = widgets.Label()\n",
    "display(message)\n",
    "flow = Flow(m, message)\n",
    "widgets.interact(flow.show, width=widgets.FloatSlider(min=3/1200,max=0.1,step=1/1200,value=0.05))\n",
    "m.on_interaction(flow.show)"
   ]
  },
  {
   "cell_type": "markdown",
   "metadata": {},
   "source": [
    "# Right-click menu\n",
    "A menu pops up when you right-click on a location. It allows you to:\n",
    "- show/hide flow accumulation. Flow accumulation is only visible on a square around the mouse position, because it takes too much memory for the browser to show it all, and also because it is context dependent: the color map will fit the range of flow accumulation values that are displayed. The width of this square can be changed with the slider above (values are in degrees). Please note that the flow accumulation image might not correspond to the rivers you see on the map, especially far from the mouse position, first because they come from different sources, and second because the image is displayed as-is (EPSG:4326) and not reprojected to Web Mercator (EPSG:3857). The difference is small enough near the mouse position anyway, and the purpose of showing flow accumulation is just to check that you are on a river before delineating a watershsed.\n",
    "- delineate a watershed. Delineation will start at the pixel the mouse is positioned on. You can zoom in until you make sure you are on the river of interest, and you can also check the lat/lon coordinates and flow accumulation numbers displayed above."
   ]
  },
  {
   "cell_type": "markdown",
   "metadata": {},
   "source": [
    "# Marker\n",
    "\n",
    "Use the following cell to display a marker on the map at a particular location. You can then drag it with the mouse and get its new location back with the next cell."
   ]
  },
  {
   "cell_type": "code",
   "execution_count": null,
   "metadata": {},
   "outputs": [],
   "source": [
    "latlon = -19.043, -63.785\n",
    "marker = Marker(location=latlon)\n",
    "m.add_layer(marker)"
   ]
  },
  {
   "cell_type": "code",
   "execution_count": null,
   "metadata": {},
   "outputs": [],
   "source": [
    "marker.location"
   ]
  },
  {
   "cell_type": "code",
   "execution_count": null,
   "metadata": {},
   "outputs": [],
   "source": [
    "lat, lon = -19.04560829389358, -63.786876992334314 # R_amz_gde_env_0564_02\n",
    "ws = delineate(lat, lon)"
   ]
  },
  {
   "cell_type": "code",
   "execution_count": null,
   "metadata": {},
   "outputs": [],
   "source": [
    "polygon = get_polygon(ws, 0)\n",
    "m.add_layer(polygon)"
   ]
  },
  {
   "cell_type": "code",
   "execution_count": null,
   "metadata": {},
   "outputs": [],
   "source": [
    "pix_deg_flow = 1 / 1200\n",
    "pix_deg_trmm = 0.25\n",
    "ratio = int(pix_deg_trmm / pix_deg_flow)\n",
    "da_mask_trmm = []\n",
    "for j, mask in enumerate (ws['mask']):\n",
    "    lat = np.array([ws['latlon'][j][0] - (i + 0.5) * pix_deg_flow for i in range(mask.shape[0])])\n",
    "    lon = np.array([ws['latlon'][j][1] + (i + 0.5) * pix_deg_flow for i in range(mask.shape[1])])\n",
    "    da1 = xr.DataArray(mask, coords=[lat, lon], dims=['lat', 'lon'])\n",
    "    da2 = adjust_bbox(da1, {'lat': (pix_deg_trmm, -pix_deg_flow), 'lon': (pix_deg_trmm, pix_deg_flow)})\n",
    "    da3 = aggregate_da(da2, {'lat': ratio, 'lon': ratio}) / (ratio * ratio)\n",
    "    da3 = da3.rename({'lat_agg': 'lat', 'lon_agg': 'lon'})\n",
    "    da3.lon.values = np.round(da3.lon.values, 2)\n",
    "    da3.lat.values = np.round(da3.lat.values, 2)\n",
    "    da_mask_trmm.append(da3)\n",
    "da_mask_trmm = xr.concat(da_mask_trmm, 'ws').assign_coords(ws=ws['label'])"
   ]
  },
  {
   "cell_type": "code",
   "execution_count": null,
   "metadata": {},
   "outputs": [],
   "source": [
    "da_mask_trmm.sum(['ws']).plot.imshow(figsize=(15, 10))"
   ]
  },
  {
   "cell_type": "code",
   "execution_count": null,
   "metadata": {},
   "outputs": [],
   "source": [
    "da_mask = []\n",
    "for j, mask in enumerate (ws['mask']):\n",
    "    lat = np.array([ws['latlon'][j][0] - (i + 0.5) * pix_deg_flow for i in range(mask.shape[0])])\n",
    "    lon = np.array([ws['latlon'][j][1] + (i + 0.5) * pix_deg_flow for i in range(mask.shape[1])])\n",
    "    da1 = xr.DataArray(mask, coords=[lat, lon], dims=['lat', 'lon'])\n",
    "    da2 = adjust_bbox(da1, {'lat': (pix_deg_trmm, -pix_deg_flow), 'lon': (pix_deg_trmm, pix_deg_flow)})\n",
    "    da_mask.append(da2*np.random.rand())\n",
    "\n",
    "def reindex(arrays, dims):\n",
    "    tolerance = 0.1 * pix_deg_flow\n",
    "    vmin, vmax = {}, {}\n",
    "    for d in dims:\n",
    "        vmin[d] = np.inf\n",
    "        vmax[d] = -np.inf\n",
    "    for da in arrays:\n",
    "        this_vmin, this_vmax = {}, {}\n",
    "        for d in dims:\n",
    "            vmin[d] = min(vmin[d], np.min(da[d]).values)\n",
    "            vmax[d] = max(vmax[d], np.max(da[d]).values)\n",
    "    coord = {}\n",
    "    for d in dims:\n",
    "        if arrays[0][d].values[1] - arrays[0][d].values[0] > 0: # increasing\n",
    "            coord[d] = np.arange(vmin[d], vmax[d]+tolerance, pix_deg_flow)\n",
    "        else:\n",
    "            coord[d] = np.arange(vmax[d], vmin[d]-tolerance, -pix_deg_flow)\n",
    "    for i in range(len(arrays)):\n",
    "        arrays[i] = arrays[i].reindex({d: coord[d] for d in dims}, method='nearest', tolerance=tolerance)\n",
    "\n",
    "reindex(da_mask, ['lat', 'lon'])\n",
    "da_mask = xr.concat(da_mask, 'ws').assign_coords(ws=ws['label'])"
   ]
  },
  {
   "cell_type": "code",
   "execution_count": null,
   "metadata": {},
   "outputs": [],
   "source": [
    "da_mask.sum(['ws']).plot.imshow(figsize=(15, 10))"
   ]
  },
  {
   "cell_type": "code",
   "execution_count": null,
   "metadata": {},
   "outputs": [],
   "source": [
    "ds_trmm = xr.open_zarr(gcsfs.GCSMap('pangeo-data/trmm_3b42rt'))"
   ]
  },
  {
   "cell_type": "code",
   "execution_count": null,
   "metadata": {},
   "outputs": [],
   "source": [
    "da_area = pixel_area(pix_deg_trmm)"
   ]
  },
  {
   "cell_type": "code",
   "execution_count": null,
   "metadata": {},
   "outputs": [],
   "source": [
    "da_mask_trmm = da_area.reindex_like(da_mask_trmm, method='nearest', tolerance=0.01) * da_mask_trmm\n",
    "da_mask_trmm = da_mask_trmm / da_mask_trmm.sum(['lat', 'lon'])"
   ]
  },
  {
   "cell_type": "code",
   "execution_count": null,
   "metadata": {},
   "outputs": [],
   "source": [
    "p = (ds_trmm['precipitation'].reindex_like(da_mask_trmm, method='nearest', tolerance=0.01) * da_mask_trmm).sum(['lat', 'lon'])"
   ]
  },
  {
   "cell_type": "code",
   "execution_count": null,
   "metadata": {},
   "outputs": [],
   "source": [
    "with ProgressBar():\n",
    "    p = p.compute()"
   ]
  },
  {
   "cell_type": "code",
   "execution_count": null,
   "metadata": {},
   "outputs": [],
   "source": [
    "p.sum(['ws']).plot()"
   ]
  }
 ],
 "metadata": {
  "kernelspec": {
   "display_name": "Python 3",
   "language": "python",
   "name": "python3"
  },
  "language_info": {
   "codemirror_mode": {
    "name": "ipython",
    "version": 3
   },
   "file_extension": ".py",
   "mimetype": "text/x-python",
   "name": "python",
   "nbconvert_exporter": "python",
   "pygments_lexer": "ipython3",
   "version": "3.7.1"
  }
 },
 "nbformat": 4,
 "nbformat_minor": 2
}
